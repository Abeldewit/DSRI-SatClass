{
 "cells": [
  {
   "cell_type": "code",
   "execution_count": 18,
   "metadata": {},
   "outputs": [
    {
     "name": "stdout",
     "output_type": "stream",
     "text": [
      "Creating dataloaders for fold 1\n",
      "Input shape: torch.Size([1, 61, 3, 128, 128]), output shape: torch.Size([1, 128, 128])\n",
      "Creating dataloaders for fold 2\n",
      "Input shape: torch.Size([1, 3, 128, 128]), output shape: torch.Size([1, 128, 128])\n",
      "Creating dataloaders for fold 3\n",
      "Input shape: torch.Size([1, 61, 10, 128, 128]), output shape: torch.Size([1, 128, 128])\n",
      "Creating dataloaders for fold 4\n",
      "Input shape: torch.Size([1, 10, 128, 128]), output shape: torch.Size([1, 128, 128])\n"
     ]
    }
   ],
   "source": [
    "from utilities.dataloader import PASTIS, create_split_dataloaders\n",
    "standard_args = {\n",
    "        'path_to_pastis':'./data/PASTIS', \n",
    "        'data_files': 'DATA_S2', \n",
    "        'label_files':'ANNOTATIONS',\n",
    "}\n",
    "\n",
    "test_args = [\n",
    "    {\n",
    "        'rgb_only': True, \n",
    "        'multi_temporal': True, \n",
    "        'pad':True,\n",
    "        'fold': 1,\n",
    "    }, \n",
    "    {\n",
    "        'rgb_only': True, \n",
    "        'multi_temporal': False, \n",
    "        'pad':False,\n",
    "        'fold': 2,\n",
    "    },\n",
    "    {\n",
    "        'rgb_only': False, \n",
    "        'multi_temporal': True, \n",
    "        'pad':True,\n",
    "        'fold': 3,\n",
    "    },\n",
    "    {\n",
    "        'rgb_only': False, \n",
    "        'multi_temporal': False, \n",
    "        'pad':False,\n",
    "        'fold': 4,\n",
    "    },\n",
    "]\n",
    "\n",
    "for targs in test_args:\n",
    "    train, val, test = create_split_dataloaders(**{**standard_args, **targs}, batch_size=1)\n",
    "    _t = train.__iter__().__next__()\n",
    "    print(\"Input shape: {}, output shape: {}\".format(_t[0].shape, _t[1].shape))"
   ]
  },
  {
   "cell_type": "code",
   "execution_count": null,
   "metadata": {},
   "outputs": [],
   "source": []
  }
 ],
 "metadata": {
  "interpreter": {
   "hash": "d33bf12e551ee35b0c8f989d9da86738a6f23886dcce9238ccace2e717ed7cec"
  },
  "kernelspec": {
   "display_name": "Python 3.7.13 ('.venv': venv)",
   "language": "python",
   "name": "python3"
  },
  "language_info": {
   "codemirror_mode": {
    "name": "ipython",
    "version": 3
   },
   "file_extension": ".py",
   "mimetype": "text/x-python",
   "name": "python",
   "nbconvert_exporter": "python",
   "pygments_lexer": "ipython3",
   "version": "3.7.13"
  },
  "orig_nbformat": 4
 },
 "nbformat": 4,
 "nbformat_minor": 2
}
